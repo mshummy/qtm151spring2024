{
 "cells": [
  {
   "cell_type": "code",
   "execution_count": 2,
   "metadata": {},
   "outputs": [],
   "source": [
    "import matplotlib.pyplot as plt \n",
    "import numpy as np "
   ]
  },
  {
   "cell_type": "code",
   "execution_count": 4,
   "metadata": {},
   "outputs": [
    {
     "data": {
      "text/plain": [
       "6"
      ]
     },
     "execution_count": 4,
     "metadata": {},
     "output_type": "execute_result"
    }
   ],
   "source": [
    "# 1.Use For Loop to Count Conditional Statements \n",
    "list = [14,34,38,63,45,54,32,17]    # Define list of ages\n",
    "list_rent = []                      # Empty list to count people eligible to rent a car\n",
    "for age in list:                    # For loop to automate check of being older than 25 \n",
    "    if age >= 25: \n",
    "        list_rent.append(True)\n",
    "    else: \n",
    "        list_rent.append(False)\n",
    "np.sum(list_rent)     \n",
    "# 1a. In what way \"behind the scenes\" does python count a True or False boolean value?\n",
    "# 1b. If we wanted to count the amount of people who are NOT eligible, how could we find this value?                         "
   ]
  },
  {
   "cell_type": "code",
   "execution_count": 9,
   "metadata": {},
   "outputs": [
    {
     "name": "stdout",
     "output_type": "stream",
     "text": [
      "William Saliba\n",
      "Dear customer William Saliba, we are writing about your opportunity to win a brand new laptop from our new line! Please click the link to continue.\n",
      "Per Mertesacker\n",
      "Dear customer Per Mertesacker, we are writing about your opportunity to win a brand new laptop from our new line! Please click the link to continue.\n",
      "Legarrette Blount\n",
      "Dear customer Legarrette Blount, we are writing about your opportunity to win a brand new laptop from our new line! Please click the link to continue.\n",
      "Tony Snell\n",
      "Dear customer Tony Snell, we are writing about your opportunity to win a brand new laptop from our new line! Please click the link to continue.\n",
      "Alex Albon\n",
      "Dear customer Alex Albon, we are writing about your opportunity to win a brand new laptop from our new line! Please click the link to continue.\n",
      "Mykhailo Mudryk\n",
      "Dear customer Mykhailo Mudryk, we are writing about your opportunity to win a brand new laptop from our new line! Please click the link to continue.\n"
     ]
    }
   ],
   "source": [
    "# 2. Automated Messaging \n",
    "list_cust = [\"William Saliba\", \"Per Mertesacker\", \"Legarrette Blount\", \"Tony Snell\",\"Alex Albon\",\"Mykhailo Mudryk\"] # Create list with random names of customers\n",
    "\n",
    "for i in list_cust:     # Create a for loop that automates the message about a giveaway from a company for each customer\n",
    "    print(\"Dear customer \" + i + \", we are writing about your opportunity to win a brand new laptop from our new line! Please click the link to continue.\")\n",
    "\n",
    "#2a. How could we also automate adding a unique link for each user at the end of the message?\n",
    "#2b. If we wanted to know how many complete messages we were expecting to see printed how could we find this before we even write our loop? "
   ]
  },
  {
   "cell_type": "code",
   "execution_count": 13,
   "metadata": {},
   "outputs": [
    {
     "data": {
      "text/plain": [
       "Text(0, 0.5, 'Y-axis')"
      ]
     },
     "execution_count": 13,
     "metadata": {},
     "output_type": "execute_result"
    },
    {
     "data": {
      "image/png": "[encoded data removed]",
      "text/plain": [
       "<Figure size 432x288 with 1 Axes>"
      ]
     },
     "metadata": {
      "needs_background": "light"
     },
     "output_type": "display_data"
    }
   ],
   "source": [
    "# 3. Math Operations \n",
    "    #3a. Create list of x values and empty list of y values that will be filled by the following function\n",
    "list_x = [1,2,4,5,6,7,8,9,10]\n",
    "list_y = []\n",
    "    #Create for loop that runs through each value of x to attain a y-value for the function of interest \n",
    "for x in list_x:\n",
    "    y = .5*x**4 + 2*x**2 + 4*x\n",
    "    list_y.append(y)\n",
    "    #3b. Follow same steps above but for the derivative of the given function, run this through a derivative calculator or dust off those calculus skills \n",
    "list_y1 = []\n",
    "for x in list_x:\n",
    "    y1 = 2*x**3 + 4*x + 4\n",
    "    list_y1.append(y1)\n",
    "\n",
    "    # Display results visually\n",
    "plt.plot(list_x, list_y)\n",
    "plt.plot(list_x,list_y1)\n",
    "plt.xlabel(\"X-axis\")\n",
    "plt.ylabel(\"Y-axis\")\n",
    "\n",
    "#"
   ]
  }
 ],
 "metadata": {
  "kernelspec": {
   "display_name": "base",
   "language": "python",
   "name": "python3"
  },
  "language_info": {
   "codemirror_mode": {
    "name": "ipython",
    "version": 3
   },
   "file_extension": ".py",
   "mimetype": "text/x-python",
   "name": "python",
   "nbconvert_exporter": "python",
   "pygments_lexer": "ipython3",
   "version": "3.8.8"
  }
 },
 "nbformat": 4,
 "nbformat_minor": 2
}
